{
 "cells": [
  {
   "cell_type": "code",
   "execution_count": 1,
   "id": "de897a42",
   "metadata": {},
   "outputs": [],
   "source": [
    "import torch \n",
    "import math\n",
    "from torch import nn\n",
    "from models.components.attentions import MultiHeadAttention, FeedForward\n",
    "from models.components.attentions import create_causal_mask, create_padding_mask, create_cross_attention_mask"
   ]
  },
  {
   "cell_type": "code",
   "execution_count": 2,
   "id": "1fb89fd5",
   "metadata": {},
   "outputs": [],
   "source": [
    "embed_dim = 128\n",
    "num_heads = 8\n",
    "hidden_dim = 200\n",
    "max_len = 5000\n",
    "batch_size = 32\n",
    "d_ff = hidden_dim\n",
    "num_head = 8\n",
    "seq_len = 4\n",
    "\n",
    "la_tensor = torch.randint(1, embed_dim, [batch_size, seq_len], )\n",
    "en_tensor = torch.randint(1, embed_dim, [batch_size, seq_len], )\n",
    "\n",
    "embedding = nn.Embedding(10**4, embedding_dim=embed_dim)\n",
    "\n",
    "multihead_block = MultiHeadAttention(\n",
    "    embed_dim=embed_dim,\n",
    "    num_heads=num_head   \n",
    ")\n"
   ]
  },
  {
   "cell_type": "code",
   "execution_count": null,
   "id": "9d5b1d82",
   "metadata": {},
   "outputs": [
    {
     "name": "stdout",
     "output_type": "stream",
     "text": [
      "Q.shape=torch.Size([32, 4, 128])\n",
      "torch.Size([32, 4, 128])\n"
     ]
    },
    {
     "ename": "",
     "evalue": "",
     "output_type": "error",
     "traceback": [
      "\u001b[1;31mThe Kernel crashed while executing code in the current cell or a previous cell. \n",
      "\u001b[1;31mPlease review the code in the cell(s) to identify a possible cause of the failure. \n",
      "\u001b[1;31mClick <a href='https://aka.ms/vscodeJupyterKernelCrash'>here</a> for more info. \n",
      "\u001b[1;31mView Jupyter <a href='command:jupyter.viewOutput'>log</a> for further details."
     ]
    }
   ],
   "source": [
    "# SELF ATTENTION\n",
    "\n",
    "Q = embedding(la_tensor)\n",
    "\n",
    "print(f\"{Q.shape=}\")\n",
    "K = Q\n",
    "V = Q\n",
    "\n",
    "context, attention_weights = MultiHeadAttention.scaled_dot_product_attention(\n",
    "    Q, K, V, is_causal=True\n",
    ")\n",
    "\n",
    "print(context.shape)\n",
    "\n",
    "# scores = torch.matmul(Q, K.transpose(-2, -1)) / math.sqrt(embed_dim // num_head)\n",
    "# # print(scores[0].shape)\n",
    "# print(f\"{scores.shape=}\")\n",
    "\n",
    "\n",
    "# causal_mask = create_causal_mask(Q.shape[1], Q.device)\n",
    "# padding_mask = create_padding_mask(la_tensor)\n",
    "\n",
    "# # combined_mask = padding_mask & causal_mask\n",
    "\n",
    "# print(f\"{causal_mask=}\")\n",
    "# print(F\"{padding_mask=}\")"
   ]
  },
  {
   "cell_type": "code",
   "execution_count": null,
   "id": "866242ff",
   "metadata": {},
   "outputs": [],
   "source": [
    "class EncoderLayer(nn.Module):\n",
    "    def __init__(self, \n",
    "                 embed_dim, \n",
    "                 num_heads, \n",
    "                 d_ff, \n",
    "                 dropout=0.1,\n",
    "                 use_nn_mha=False,\n",
    "                 ):\n",
    "        super(EncoderLayer, self).__init__()\n",
    "        self.self_attention = MultiHeadAttention(embed_dim, num_heads)\n",
    "        self.feed_forward = FeedForward(embed_dim, dropout=dropout)\n",
    "        self.norm1 = nn.LayerNorm(embed_dim)\n",
    "        self.norm2 = nn.LayerNorm(embed_dim)\n",
    "        self.dropout = nn.Dropout(0.1)\n",
    "\n",
    "    def forward(self, x, mask=None):\n",
    "        # Self-attention con connessione residua\n",
    "        \n",
    "        if mask is None:\n",
    "            mask = \n",
    "        \n",
    "        attn_output = self.self_attention(x, x, x, mask)\n",
    "        x = self.norm1(x + self.dropout(attn_output))\n",
    "\n",
    "        # Feed-forward con connessione residua\n",
    "        ff_output = self.feed_forward(x)\n",
    "        x = self.norm2(x + self.dropout(ff_output))\n",
    "\n",
    "        return x\n",
    "\n"
   ]
  }
 ],
 "metadata": {
  "kernelspec": {
   "display_name": "optimus",
   "language": "python",
   "name": "python3"
  },
  "language_info": {
   "codemirror_mode": {
    "name": "ipython",
    "version": 3
   },
   "file_extension": ".py",
   "mimetype": "text/x-python",
   "name": "python",
   "nbconvert_exporter": "python",
   "pygments_lexer": "ipython3",
   "version": "3.12.11"
  }
 },
 "nbformat": 4,
 "nbformat_minor": 5
}
